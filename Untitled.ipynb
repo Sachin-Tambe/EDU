{
 "cells": [
  {
   "cell_type": "code",
   "execution_count": 20,
   "id": "5b627f1d-140d-45ad-b286-341012016bdc",
   "metadata": {},
   "outputs": [
    {
     "name": "stdout",
     "output_type": "stream",
     "text": [
      "^C\n"
     ]
    }
   ],
   "source": [
    "!streamlit run chatpdf.py"
   ]
  },
  {
   "cell_type": "code",
   "execution_count": 2,
   "id": "552bec63-9abf-4cdf-b91f-873a5ad8626d",
   "metadata": {},
   "outputs": [
    {
     "name": "stdout",
     "output_type": "stream",
     "text": [
      "^C\n"
     ]
    }
   ],
   "source": [
    "!streamlit run summerizer.py"
   ]
  },
  {
   "cell_type": "code",
   "execution_count": 32,
   "id": "5f4b0dc4-44d3-4f7b-bfd0-7e6161024a70",
   "metadata": {},
   "outputs": [
    {
     "name": "stdout",
     "output_type": "stream",
     "text": [
      "^C\n"
     ]
    }
   ],
   "source": [
    "!streamlit run pathGenerator.py"
   ]
  },
  {
   "cell_type": "code",
   "execution_count": null,
   "id": "b99a00e5-678a-4244-bc9a-380b7151602c",
   "metadata": {},
   "outputs": [],
   "source": [
    "!streamlit run quiz.py"
   ]
  },
  {
   "cell_type": "code",
   "execution_count": 4,
   "id": "59d20cb2-be92-430a-b67d-b58218c171c5",
   "metadata": {},
   "outputs": [
    {
     "name": "stdout",
     "output_type": "stream",
     "text": [
      "Excel file saved at: Motivational_Quotes.xlsx\n"
     ]
    }
   ],
   "source": [
    "import pandas as pd\n",
    "\n",
    "# Creating a dictionary with the quotes\n",
    "quotes_data = {\n",
    "    \"Number\": list(range(1, 101)),\n",
    "    \"Quote\": [\n",
    "        \"Success is not final, failure is not fatal: It is the courage to continue that counts.\",\n",
    "        \"The only place where success comes before work is in the dictionary.\",\n",
    "        \"Work hard in silence, let your success be the noise.\",\n",
    "        \"Opportunities don't happen. You create them.\",\n",
    "        \"Do what you can, with what you have, where you are.\",\n",
    "        \"Don't stop when you're tired. Stop when you're done.\",\n",
    "        \"The secret to getting ahead is getting started.\",\n",
    "        \"Hardships often prepare ordinary people for an extraordinary destiny.\",\n",
    "        \"Believe you can and you're halfway there.\",\n",
    "        \"If you want something you've never had, you must be willing to do something you've never done.\",\n",
    "        \"It does not matter how slowly you go as long as you do not stop.\",\n",
    "        \"A river cuts through rock, not because of its power, but because of its persistence.\",\n",
    "        \"Difficulties in life are intended to make us better, not bitter.\",\n",
    "        \"When you feel like quitting, think about why you started.\",\n",
    "        \"Tough times never last, but tough people do.\",\n",
    "        \"You may encounter many defeats, but you must not be defeated.\",\n",
    "        \"Don't watch the clock; do what it does. Keep going.\",\n",
    "        \"Strength grows in the moments when you think you can't go on but keep going anyway.\",\n",
    "        \"Fall seven times, stand up eight.\",\n",
    "        \"The pain you feel today will be the strength you feel tomorrow.\",\n",
    "        \"Dream big and dare to fail.\",\n",
    "        \"Your limitation—it's only your imagination.\",\n",
    "        \"Success usually comes to those who are too busy to be looking for it.\",\n",
    "        \"Make your life a masterpiece; imagine no limitations on what you can be, have, or do.\",\n",
    "        \"Don’t let yesterday take up too much of today.\",\n",
    "        \"If you can dream it, you can do it.\",\n",
    "        \"Do something today that your future self will thank you for.\",\n",
    "        \"Great things never come from comfort zones.\",\n",
    "        \"It’s not whether you get knocked down, it’s whether you get up.\",\n",
    "        \"If people are doubting how far you can go, go so far that you can’t hear them anymore.\",\n",
    "        \"Happiness is not something ready-made. It comes from your own actions.\",\n",
    "        \"The mind is everything. What you think you become.\",\n",
    "        \"Positive anything is better than negative nothing.\",\n",
    "        \"Your attitude determines your direction.\",\n",
    "        \"What lies behind us and what lies before us are tiny matters compared to what lies within us.\",\n",
    "        \"The only limit to our realization of tomorrow is our doubts of today.\",\n",
    "        \"A positive attitude brings positive results.\",\n",
    "        \"Act as if what you do makes a difference. It does.\",\n",
    "        \"You are confined only by the walls you build yourself.\",\n",
    "        \"Stay positive. Work hard. Make it happen.\",\n",
    "        \"Fear is temporary. Regret is forever.\",\n",
    "        \"Do one thing every day that scares you.\",\n",
    "        \"Everything you’ve ever wanted is on the other side of fear.\",\n",
    "        \"Fear has two meanings: Forget Everything And Run or Face Everything And Rise. The choice is yours.\",\n",
    "        \"Failure is the condiment that gives success its flavor.\",\n",
    "        \"Success is stumbling from failure to failure with no loss of enthusiasm.\",\n",
    "        \"Courage is resistance to fear, mastery of fear—not absence of fear.\",\n",
    "        \"Only those who dare to fail greatly can ever achieve greatly.\",\n",
    "        \"Failure is not the opposite of success; it’s part of success.\",\n",
    "        \"You miss 100% of the shots you don’t take.\",\n",
    "        \"Be so good they can't ignore you.\",\n",
    "        \"The only way to do great work is to love what you do.\",\n",
    "        \"Live as if you were to die tomorrow. Learn as if you were to live forever.\",\n",
    "        \"You have within you right now, everything you need to deal with whatever the world can throw at you.\",\n",
    "        \"Don’t wait for opportunity. Create it.\",\n",
    "        \"A goal without a plan is just a wish.\",\n",
    "        \"You are never too old to set another goal or to dream a new dream.\",\n",
    "        \"Discipline is the bridge between goals and accomplishment.\",\n",
    "        \"Do the best you can until you know better. Then when you know better, do better.\",\n",
    "        \"We cannot become what we want by remaining what we are.\",\n",
    "        \"A leader is one who knows the way, goes the way, and shows the way.\",\n",
    "        \"The function of leadership is to produce more leaders, not more followers.\",\n",
    "        \"The greatest glory in living lies not in never falling, but in rising every time we fall.\",\n",
    "        \"If your actions inspire others to dream more, learn more, do more, and become more, you are a leader.\",\n",
    "        \"A genuine leader is not a searcher for consensus but a molder of consensus.\",\n",
    "        \"Leadership is not about being in charge. It is about taking care of those in your charge.\",\n",
    "        \"Don't be pushed around by the fears in your mind. Be led by the dreams in your heart.\",\n",
    "        \"Do what is right, not what is easy nor what is popular.\",\n",
    "        \"It's not about perfect. It’s about effort.\",\n",
    "        \"Nothing is impossible. The word itself says 'I'm possible'!\",\n",
    "        \"Do what you love, and you’ll never work a day in your life.\",\n",
    "        \"Follow your passion. It will lead you to your purpose.\",\n",
    "        \"Success is liking yourself, liking what you do, and liking how you do it.\",\n",
    "        \"Your work is going to fill a large part of your life, and the only way to be truly satisfied is to do what you believe is great work.\",\n",
    "        \"Believe in yourself, take on your challenges, dig deep within yourself to conquer fears.\",\n",
    "        \"You are enough just as you are.\",\n",
    "        \"To be yourself in a world that is constantly trying to make you something else is the greatest accomplishment.\",\n",
    "        \"Confidence comes not from always being right, but from not fearing to be wrong.\",\n",
    "        \"Don't wait for the right opportunity. Create it.\",\n",
    "        \"Small daily improvements over time lead to stunning results.\",\n",
    "        \"The way to get started is to quit talking and begin doing.\",\n",
    "        \"You will never always be motivated, so you must learn to be disciplined.\",\n",
    "        \"Success doesn’t come from what you do occasionally, it comes from what you do consistently.\",\n",
    "        \"Don’t be afraid to give up the good to go for the great.\",\n",
    "        \"The harder the battle, the sweeter the victory.\",\n",
    "        \"Your life does not get better by chance, it gets better by change.\",\n",
    "        \"Do what you have to do until you can do what you want to do.\",\n",
    "        \"A champion is defined not by their wins but by how they can recover when they fall.\"\n",
    "    ]\n",
    "}\n",
    "\n",
    "# Ensure both lists have the same length\n",
    "num_quotes_needed = len(quotes_data[\"Number\"]) - len(quotes_data[\"Quote\"])\n",
    "\n",
    "# If there are fewer quotes, repeat some existing ones\n",
    "if num_quotes_needed > 0:\n",
    "    quotes_data[\"Quote\"].extend(quotes_data[\"Quote\"][:num_quotes_needed])\n",
    "\n",
    "# If there are extra quotes, truncate them\n",
    "quotes_data[\"Quote\"] = quotes_data[\"Quote\"][:len(quotes_data[\"Number\"])]\n",
    "\n",
    "# Creating DataFrame\n",
    "df = pd.DataFrame(quotes_data)\n",
    "\n",
    "# Saving to an Excel file\n",
    "file_path = \"Motivational_Quotes.xlsx\"\n",
    "df.to_excel(file_path, index=False)\n",
    "\n",
    "print(f\"Excel file saved at: {file_path}\")\n"
   ]
  },
  {
   "cell_type": "code",
   "execution_count": 6,
   "id": "51212627-4e56-4f14-ba45-dce693589580",
   "metadata": {},
   "outputs": [
    {
     "ename": "OSError",
     "evalue": "cannot open resource",
     "output_type": "error",
     "traceback": [
      "\u001b[1;31m---------------------------------------------------------------------------\u001b[0m",
      "\u001b[1;31mOSError\u001b[0m                                   Traceback (most recent call last)",
      "Cell \u001b[1;32mIn[6], line 31\u001b[0m\n\u001b[0;32m     28\u001b[0m draw \u001b[38;5;241m=\u001b[39m ImageDraw\u001b[38;5;241m.\u001b[39mDraw(img)\n\u001b[0;32m     30\u001b[0m \u001b[38;5;66;03m# Load font\u001b[39;00m\n\u001b[1;32m---> 31\u001b[0m font \u001b[38;5;241m=\u001b[39m ImageFont\u001b[38;5;241m.\u001b[39mtruetype(font_path, \u001b[38;5;241m50\u001b[39m)\n\u001b[0;32m     33\u001b[0m \u001b[38;5;66;03m# Split text into multiple lines for readability\u001b[39;00m\n\u001b[0;32m     34\u001b[0m max_width \u001b[38;5;241m=\u001b[39m img_width \u001b[38;5;241m-\u001b[39m \u001b[38;5;241m100\u001b[39m  \u001b[38;5;66;03m# Leave margin\u001b[39;00m\n",
      "File \u001b[1;32m~\\anaconda3\\Lib\\site-packages\\PIL\\ImageFont.py:834\u001b[0m, in \u001b[0;36mtruetype\u001b[1;34m(font, size, index, encoding, layout_engine)\u001b[0m\n\u001b[0;32m    831\u001b[0m     \u001b[38;5;28;01mreturn\u001b[39;00m FreeTypeFont(font, size, index, encoding, layout_engine)\n\u001b[0;32m    833\u001b[0m \u001b[38;5;28;01mtry\u001b[39;00m:\n\u001b[1;32m--> 834\u001b[0m     \u001b[38;5;28;01mreturn\u001b[39;00m freetype(font)\n\u001b[0;32m    835\u001b[0m \u001b[38;5;28;01mexcept\u001b[39;00m \u001b[38;5;167;01mOSError\u001b[39;00m:\n\u001b[0;32m    836\u001b[0m     \u001b[38;5;28;01mif\u001b[39;00m \u001b[38;5;129;01mnot\u001b[39;00m is_path(font):\n",
      "File \u001b[1;32m~\\anaconda3\\Lib\\site-packages\\PIL\\ImageFont.py:831\u001b[0m, in \u001b[0;36mtruetype.<locals>.freetype\u001b[1;34m(font)\u001b[0m\n\u001b[0;32m    830\u001b[0m \u001b[38;5;28;01mdef\u001b[39;00m \u001b[38;5;21mfreetype\u001b[39m(font: StrOrBytesPath \u001b[38;5;241m|\u001b[39m BinaryIO \u001b[38;5;241m|\u001b[39m \u001b[38;5;28;01mNone\u001b[39;00m) \u001b[38;5;241m-\u001b[39m\u001b[38;5;241m>\u001b[39m FreeTypeFont:\n\u001b[1;32m--> 831\u001b[0m     \u001b[38;5;28;01mreturn\u001b[39;00m FreeTypeFont(font, size, index, encoding, layout_engine)\n",
      "File \u001b[1;32m~\\anaconda3\\Lib\\site-packages\\PIL\\ImageFont.py:257\u001b[0m, in \u001b[0;36mFreeTypeFont.__init__\u001b[1;34m(self, font, size, index, encoding, layout_engine)\u001b[0m\n\u001b[0;32m    255\u001b[0m                 load_from_bytes(f)\n\u001b[0;32m    256\u001b[0m             \u001b[38;5;28;01mreturn\u001b[39;00m\n\u001b[1;32m--> 257\u001b[0m     \u001b[38;5;28mself\u001b[39m\u001b[38;5;241m.\u001b[39mfont \u001b[38;5;241m=\u001b[39m core\u001b[38;5;241m.\u001b[39mgetfont(\n\u001b[0;32m    258\u001b[0m         font, size, index, encoding, layout_engine\u001b[38;5;241m=\u001b[39mlayout_engine\n\u001b[0;32m    259\u001b[0m     )\n\u001b[0;32m    260\u001b[0m \u001b[38;5;28;01melse\u001b[39;00m:\n\u001b[0;32m    261\u001b[0m     load_from_bytes(font)\n",
      "\u001b[1;31mOSError\u001b[0m: cannot open resource"
     ]
    }
   ],
   "source": [
    "import os\n",
    "import pandas as pd\n",
    "import random\n",
    "from PIL import Image, ImageDraw, ImageFont\n",
    "\n",
    "# Load quotes from Excel file\n",
    "file_path = \"data/Motivational_Quotes.xlsx\"\n",
    "df = pd.read_excel(file_path)\n",
    "\n",
    "# Ensure output folder exists\n",
    "output_folder = \"data/generated_images\"\n",
    "os.makedirs(output_folder, exist_ok=True)\n",
    "\n",
    "# Define image size and font\n",
    "img_width, img_height = 1080, 1080  # Square format for social media\n",
    "font_path = \"/usr/share/fonts/truetype/dejavu/DejaVuSans-Bold.ttf\"  # Default font\n",
    "\n",
    "# Background colors\n",
    "background_colors = [\"#1E3A8A\", \"#065F46\", \"#B91C1C\", \"#78350F\", \"#4B5563\"]  # Dark blue, green, red, brown, gray\n",
    "\n",
    "# Generate images for quotes\n",
    "image_paths = []\n",
    "for index, row in df.iterrows():\n",
    "    quote = row[\"Quote\"]\n",
    "    \n",
    "    # Create image\n",
    "    img = Image.new(\"RGB\", (img_width, img_height), color=random.choice(background_colors))\n",
    "    draw = ImageDraw.Draw(img)\n",
    "\n",
    "    # Load font\n",
    "    font = ImageFont.truetype(font_path, 50)\n",
    "\n",
    "    # Split text into multiple lines for readability\n",
    "    max_width = img_width - 100  # Leave margin\n",
    "    words = quote.split(\" \")\n",
    "    lines = []\n",
    "    current_line = \"\"\n",
    "    \n",
    "    for word in words:\n",
    "        test_line = current_line + \" \" + word if current_line else word\n",
    "        test_width, _ = draw.textsize(test_line, font=font)\n",
    "        \n",
    "        if test_width <= max_width:\n",
    "            current_line = test_line\n",
    "        else:\n",
    "            lines.append(current_line)\n",
    "            current_line = word\n",
    "    \n",
    "    lines.append(current_line)  # Add the last line\n",
    "\n",
    "    # Calculate text height\n",
    "    text_height = len(lines) * 60  # Approximate line height\n",
    "    y_text = (img_height - text_height) // 2  # Center text vertically\n",
    "\n",
    "    # Draw text\n",
    "    for line in lines:\n",
    "        text_width, _ = draw.textsize(line, font=font)\n",
    "        x_text = (img_width - text_width) // 2  # Center text horizontally\n",
    "        draw.text((x_text, y_text), line, font=font, fill=\"white\")\n",
    "        y_text += 60  # Move to next line\n",
    "\n",
    "    # Save image\n",
    "    img_path = os.path.join(output_folder, f\"quote_{index + 1}.png\")\n",
    "    img.save(img_path)\n",
    "    image_paths.append(img_path)\n",
    "\n",
    "# Return the list of generated images\n",
    "image_paths[:10]  # Preview first 10 images paths\n"
   ]
  },
  {
   "cell_type": "code",
   "execution_count": 8,
   "id": "bb5e222d-0fed-4130-bc2b-8e785422ccef",
   "metadata": {},
   "outputs": [
    {
     "name": "stdout",
     "output_type": "stream",
     "text": [
      "Collecting moviepy\n",
      "  Downloading moviepy-2.1.2-py3-none-any.whl.metadata (6.9 kB)\n",
      "Requirement already satisfied: pandas in c:\\users\\sachi\\anaconda3\\lib\\site-packages (2.2.2)\n",
      "Requirement already satisfied: openpyxl in c:\\users\\sachi\\anaconda3\\lib\\site-packages (3.1.5)\n",
      "Requirement already satisfied: decorator<6.0,>=4.0.2 in c:\\users\\sachi\\anaconda3\\lib\\site-packages (from moviepy) (5.1.1)\n",
      "Requirement already satisfied: imageio<3.0,>=2.5 in c:\\users\\sachi\\anaconda3\\lib\\site-packages (from moviepy) (2.33.1)\n",
      "Collecting imageio_ffmpeg>=0.2.0 (from moviepy)\n",
      "  Downloading imageio_ffmpeg-0.6.0-py3-none-win_amd64.whl.metadata (1.5 kB)\n",
      "Requirement already satisfied: numpy>=1.25.0 in c:\\users\\sachi\\anaconda3\\lib\\site-packages (from moviepy) (1.26.4)\n",
      "Collecting proglog<=1.0.0 (from moviepy)\n",
      "  Downloading proglog-0.1.10-py3-none-any.whl.metadata (639 bytes)\n",
      "Requirement already satisfied: python-dotenv>=0.10 in c:\\users\\sachi\\anaconda3\\lib\\site-packages (from moviepy) (0.21.0)\n",
      "Requirement already satisfied: pillow<11.0,>=9.2.0 in c:\\users\\sachi\\anaconda3\\lib\\site-packages (from moviepy) (10.4.0)\n",
      "Requirement already satisfied: python-dateutil>=2.8.2 in c:\\users\\sachi\\anaconda3\\lib\\site-packages (from pandas) (2.9.0.post0)\n",
      "Requirement already satisfied: pytz>=2020.1 in c:\\users\\sachi\\anaconda3\\lib\\site-packages (from pandas) (2024.1)\n",
      "Requirement already satisfied: tzdata>=2022.7 in c:\\users\\sachi\\anaconda3\\lib\\site-packages (from pandas) (2023.3)\n",
      "Requirement already satisfied: et-xmlfile in c:\\users\\sachi\\anaconda3\\lib\\site-packages (from openpyxl) (1.1.0)\n",
      "Requirement already satisfied: tqdm in c:\\users\\sachi\\anaconda3\\lib\\site-packages (from proglog<=1.0.0->moviepy) (4.66.5)\n",
      "Requirement already satisfied: six>=1.5 in c:\\users\\sachi\\anaconda3\\lib\\site-packages (from python-dateutil>=2.8.2->pandas) (1.16.0)\n",
      "Requirement already satisfied: colorama in c:\\users\\sachi\\anaconda3\\lib\\site-packages (from tqdm->proglog<=1.0.0->moviepy) (0.4.6)\n",
      "Downloading moviepy-2.1.2-py3-none-any.whl (126 kB)\n",
      "Downloading imageio_ffmpeg-0.6.0-py3-none-win_amd64.whl (31.2 MB)\n",
      "   ---------------------------------------- 0.0/31.2 MB ? eta -:--:--\n",
      "   - -------------------------------------- 1.3/31.2 MB 7.4 MB/s eta 0:00:05\n",
      "   --- ------------------------------------ 2.6/31.2 MB 6.6 MB/s eta 0:00:05\n",
      "   ----- ---------------------------------- 4.2/31.2 MB 7.2 MB/s eta 0:00:04\n",
      "   ------ --------------------------------- 5.2/31.2 MB 7.1 MB/s eta 0:00:04\n",
      "   -------- ------------------------------- 6.6/31.2 MB 6.6 MB/s eta 0:00:04\n",
      "   ---------- ----------------------------- 8.4/31.2 MB 6.8 MB/s eta 0:00:04\n",
      "   ------------ --------------------------- 9.4/31.2 MB 6.6 MB/s eta 0:00:04\n",
      "   ------------- -------------------------- 10.2/31.2 MB 6.4 MB/s eta 0:00:04\n",
      "   -------------- ------------------------- 11.3/31.2 MB 6.2 MB/s eta 0:00:04\n",
      "   ---------------- ----------------------- 12.8/31.2 MB 6.2 MB/s eta 0:00:03\n",
      "   ----------------- ---------------------- 13.6/31.2 MB 6.1 MB/s eta 0:00:03\n",
      "   ------------------- -------------------- 14.9/31.2 MB 6.0 MB/s eta 0:00:03\n",
      "   -------------------- ------------------- 16.0/31.2 MB 6.0 MB/s eta 0:00:03\n",
      "   ---------------------- ----------------- 17.6/31.2 MB 6.1 MB/s eta 0:00:03\n",
      "   ------------------------ --------------- 19.1/31.2 MB 6.2 MB/s eta 0:00:02\n",
      "   ------------------------- -------------- 20.2/31.2 MB 6.1 MB/s eta 0:00:02\n",
      "   --------------------------- ------------ 21.2/31.2 MB 6.0 MB/s eta 0:00:02\n",
      "   ----------------------------- ---------- 22.8/31.2 MB 6.1 MB/s eta 0:00:02\n",
      "   ------------------------------- -------- 24.4/31.2 MB 6.2 MB/s eta 0:00:02\n",
      "   -------------------------------- ------- 25.4/31.2 MB 6.2 MB/s eta 0:00:01\n",
      "   ---------------------------------- ----- 26.7/31.2 MB 6.2 MB/s eta 0:00:01\n",
      "   ----------------------------------- ---- 27.8/31.2 MB 6.1 MB/s eta 0:00:01\n",
      "   ------------------------------------ --- 28.3/31.2 MB 6.0 MB/s eta 0:00:01\n",
      "   ------------------------------------ --- 28.6/31.2 MB 5.9 MB/s eta 0:00:01\n",
      "   ------------------------------------- -- 29.1/31.2 MB 5.7 MB/s eta 0:00:01\n",
      "   -------------------------------------- - 29.9/31.2 MB 5.6 MB/s eta 0:00:01\n",
      "   -------------------------------------- - 30.4/31.2 MB 5.5 MB/s eta 0:00:01\n",
      "   ---------------------------------------- 31.2/31.2 MB 5.4 MB/s eta 0:00:00\n",
      "Downloading proglog-0.1.10-py3-none-any.whl (6.1 kB)\n",
      "Installing collected packages: imageio_ffmpeg, proglog, moviepy\n",
      "Successfully installed imageio_ffmpeg-0.6.0 moviepy-2.1.2 proglog-0.1.10\n",
      "Note: you may need to restart the kernel to use updated packages.\n"
     ]
    }
   ],
   "source": [
    "pip install moviepy pandas openpyxl"
   ]
  },
  {
   "cell_type": "code",
   "execution_count": 10,
   "id": "9622c21b-652e-4a49-b4a0-f6a2b47d9838",
   "metadata": {},
   "outputs": [
    {
     "name": "stdout",
     "output_type": "stream",
     "text": [
      "✅ White background image created!\n"
     ]
    }
   ],
   "source": [
    "from PIL import Image\n",
    "\n",
    "# Create a white image (1080x1920)\n",
    "img = Image.new('RGB', (1080, 1920), 'white')\n",
    "img.save(\"data/white_background.jpg\")\n",
    "\n",
    "print(\"✅ White background image created!\")\n"
   ]
  },
  {
   "cell_type": "code",
   "execution_count": 19,
   "id": "d7db5229-5ce1-4edf-be7b-1f0cbe60f1e2",
   "metadata": {},
   "outputs": [
    {
     "ename": "ImportError",
     "evalue": "\n\nIMPORTANT: PLEASE READ THIS FOR ADVICE ON HOW TO SOLVE THIS ISSUE!\n\nImporting the numpy C-extensions failed. This error can happen for\nmany reasons, often due to issues with your setup or how NumPy was\ninstalled.\n\nWe have compiled some common reasons and troubleshooting tips at:\n\n    https://numpy.org/devdocs/user/troubleshooting-importerror.html\n\nPlease note and check the following:\n\n  * The Python version is: Python3.12 from \"C:\\Users\\sachi\\anaconda3\\python.exe\"\n  * The NumPy version is: \"1.26.4\"\n\nand make sure that they are the versions you expect.\nPlease carefully study the documentation linked above for further help.\n\nOriginal error was: DLL load failed while importing _multiarray_umath: The specified module could not be found.\n",
     "output_type": "error",
     "traceback": [
      "\u001b[1;31m---------------------------------------------------------------------------\u001b[0m",
      "\u001b[1;31mImportError\u001b[0m                               Traceback (most recent call last)",
      "File \u001b[1;32m~\\anaconda3\\Lib\\site-packages\\numpy\\_core\\__init__.py:23\u001b[0m\n\u001b[0;32m     22\u001b[0m \u001b[38;5;28;01mtry\u001b[39;00m:\n\u001b[1;32m---> 23\u001b[0m     \u001b[38;5;28;01mfrom\u001b[39;00m \u001b[38;5;21;01m.\u001b[39;00m \u001b[38;5;28;01mimport\u001b[39;00m multiarray\n\u001b[0;32m     24\u001b[0m \u001b[38;5;28;01mexcept\u001b[39;00m \u001b[38;5;167;01mImportError\u001b[39;00m \u001b[38;5;28;01mas\u001b[39;00m exc:\n",
      "File \u001b[1;32m~\\anaconda3\\Lib\\site-packages\\numpy\\_core\\multiarray.py:10\u001b[0m\n\u001b[0;32m      9\u001b[0m \u001b[38;5;28;01mimport\u001b[39;00m \u001b[38;5;21;01mfunctools\u001b[39;00m\n\u001b[1;32m---> 10\u001b[0m \u001b[38;5;28;01mfrom\u001b[39;00m \u001b[38;5;21;01m.\u001b[39;00m \u001b[38;5;28;01mimport\u001b[39;00m overrides\n\u001b[0;32m     11\u001b[0m \u001b[38;5;28;01mfrom\u001b[39;00m \u001b[38;5;21;01m.\u001b[39;00m \u001b[38;5;28;01mimport\u001b[39;00m _multiarray_umath\n",
      "File \u001b[1;32m~\\anaconda3\\Lib\\site-packages\\numpy\\_core\\overrides.py:7\u001b[0m\n\u001b[0;32m      6\u001b[0m \u001b[38;5;28;01mfrom\u001b[39;00m \u001b[38;5;21;01m.\u001b[39;00m\u001b[38;5;21;01m.\u001b[39;00m\u001b[38;5;21;01m_utils\u001b[39;00m\u001b[38;5;21;01m.\u001b[39;00m\u001b[38;5;21;01m_inspect\u001b[39;00m \u001b[38;5;28;01mimport\u001b[39;00m getargspec\n\u001b[1;32m----> 7\u001b[0m \u001b[38;5;28;01mfrom\u001b[39;00m \u001b[38;5;21;01mnumpy\u001b[39;00m\u001b[38;5;21;01m.\u001b[39;00m\u001b[38;5;21;01m_core\u001b[39;00m\u001b[38;5;21;01m.\u001b[39;00m\u001b[38;5;21;01m_multiarray_umath\u001b[39;00m \u001b[38;5;28;01mimport\u001b[39;00m (\n\u001b[0;32m      8\u001b[0m     add_docstring,  _get_implementing_args, _ArrayFunctionDispatcher)\n\u001b[0;32m     11\u001b[0m ARRAY_FUNCTIONS \u001b[38;5;241m=\u001b[39m \u001b[38;5;28mset\u001b[39m()\n",
      "\u001b[1;31mImportError\u001b[0m: DLL load failed while importing _multiarray_umath: The specified module could not be found.",
      "\nDuring handling of the above exception, another exception occurred:\n",
      "\u001b[1;31mImportError\u001b[0m                               Traceback (most recent call last)",
      "File \u001b[1;32m~\\anaconda3\\Lib\\site-packages\\numpy\\_core\\__init__.py:49\u001b[0m\n\u001b[0;32m     25\u001b[0m     \u001b[38;5;28;01mimport\u001b[39;00m \u001b[38;5;21;01msys\u001b[39;00m\n\u001b[0;32m     26\u001b[0m     msg \u001b[38;5;241m=\u001b[39m \u001b[38;5;124m\"\"\"\u001b[39m\n\u001b[0;32m     27\u001b[0m \n\u001b[0;32m     28\u001b[0m \u001b[38;5;124mIMPORTANT: PLEASE READ THIS FOR ADVICE ON HOW TO SOLVE THIS ISSUE!\u001b[39m\n\u001b[1;32m   (...)\u001b[0m\n\u001b[0;32m     47\u001b[0m \u001b[38;5;124m\"\"\"\u001b[39m \u001b[38;5;241m%\u001b[39m (sys\u001b[38;5;241m.\u001b[39mversion_info[\u001b[38;5;241m0\u001b[39m], sys\u001b[38;5;241m.\u001b[39mversion_info[\u001b[38;5;241m1\u001b[39m], sys\u001b[38;5;241m.\u001b[39mexecutable,\n\u001b[0;32m     48\u001b[0m         __version__, exc)\n\u001b[1;32m---> 49\u001b[0m     \u001b[38;5;28;01mraise\u001b[39;00m \u001b[38;5;167;01mImportError\u001b[39;00m(msg)\n\u001b[0;32m     50\u001b[0m \u001b[38;5;28;01mfinally\u001b[39;00m:\n\u001b[0;32m     51\u001b[0m     \u001b[38;5;28;01mfor\u001b[39;00m envkey \u001b[38;5;129;01min\u001b[39;00m env_added:\n",
      "\u001b[1;31mImportError\u001b[0m: \n\nIMPORTANT: PLEASE READ THIS FOR ADVICE ON HOW TO SOLVE THIS ISSUE!\n\nImporting the numpy C-extensions failed. This error can happen for\nmany reasons, often due to issues with your setup or how NumPy was\ninstalled.\n\nWe have compiled some common reasons and troubleshooting tips at:\n\n    https://numpy.org/devdocs/user/troubleshooting-importerror.html\n\nPlease note and check the following:\n\n  * The Python version is: Python3.12 from \"C:\\Users\\sachi\\anaconda3\\python.exe\"\n  * The NumPy version is: \"1.26.4\"\n\nand make sure that they are the versions you expect.\nPlease carefully study the documentation linked above for further help.\n\nOriginal error was: DLL load failed while importing _multiarray_umath: The specified module could not be found.\n"
     ]
    },
    {
     "ename": "ImportError",
     "evalue": "numpy._core.multiarray failed to import",
     "output_type": "error",
     "traceback": [
      "\u001b[1;31m---------------------------------------------------------------------------\u001b[0m",
      "\u001b[1;31mImportError\u001b[0m                               Traceback (most recent call last)",
      "Cell \u001b[1;32mIn[19], line 2\u001b[0m\n\u001b[0;32m      1\u001b[0m \u001b[38;5;28;01mimport\u001b[39;00m \u001b[38;5;21;01mos\u001b[39;00m\n\u001b[1;32m----> 2\u001b[0m \u001b[38;5;28;01mimport\u001b[39;00m \u001b[38;5;21;01mcv2\u001b[39;00m\n\u001b[0;32m      3\u001b[0m \u001b[38;5;28;01mimport\u001b[39;00m \u001b[38;5;21;01mnumpy\u001b[39;00m \u001b[38;5;28;01mas\u001b[39;00m \u001b[38;5;21;01mnp\u001b[39;00m\n\u001b[0;32m      4\u001b[0m \u001b[38;5;28;01mimport\u001b[39;00m \u001b[38;5;21;01mpandas\u001b[39;00m \u001b[38;5;28;01mas\u001b[39;00m \u001b[38;5;21;01mpd\u001b[39;00m\n",
      "File \u001b[1;32m~\\anaconda3\\Lib\\site-packages\\cv2\\__init__.py:181\u001b[0m\n\u001b[0;32m    176\u001b[0m             \u001b[38;5;28;01mif\u001b[39;00m DEBUG: \u001b[38;5;28mprint\u001b[39m(\u001b[38;5;124m\"\u001b[39m\u001b[38;5;124mExtra Python code for\u001b[39m\u001b[38;5;124m\"\u001b[39m, submodule, \u001b[38;5;124m\"\u001b[39m\u001b[38;5;124mis loaded\u001b[39m\u001b[38;5;124m\"\u001b[39m)\n\u001b[0;32m    178\u001b[0m     \u001b[38;5;28;01mif\u001b[39;00m DEBUG: \u001b[38;5;28mprint\u001b[39m(\u001b[38;5;124m'\u001b[39m\u001b[38;5;124mOpenCV loader: DONE\u001b[39m\u001b[38;5;124m'\u001b[39m)\n\u001b[1;32m--> 181\u001b[0m bootstrap()\n",
      "File \u001b[1;32m~\\anaconda3\\Lib\\site-packages\\cv2\\__init__.py:153\u001b[0m, in \u001b[0;36mbootstrap\u001b[1;34m()\u001b[0m\n\u001b[0;32m    149\u001b[0m \u001b[38;5;28;01mif\u001b[39;00m DEBUG: \u001b[38;5;28mprint\u001b[39m(\u001b[38;5;124m\"\u001b[39m\u001b[38;5;124mRelink everything from native cv2 module to cv2 package\u001b[39m\u001b[38;5;124m\"\u001b[39m)\n\u001b[0;32m    151\u001b[0m py_module \u001b[38;5;241m=\u001b[39m sys\u001b[38;5;241m.\u001b[39mmodules\u001b[38;5;241m.\u001b[39mpop(\u001b[38;5;124m\"\u001b[39m\u001b[38;5;124mcv2\u001b[39m\u001b[38;5;124m\"\u001b[39m)\n\u001b[1;32m--> 153\u001b[0m native_module \u001b[38;5;241m=\u001b[39m importlib\u001b[38;5;241m.\u001b[39mimport_module(\u001b[38;5;124m\"\u001b[39m\u001b[38;5;124mcv2\u001b[39m\u001b[38;5;124m\"\u001b[39m)\n\u001b[0;32m    155\u001b[0m sys\u001b[38;5;241m.\u001b[39mmodules[\u001b[38;5;124m\"\u001b[39m\u001b[38;5;124mcv2\u001b[39m\u001b[38;5;124m\"\u001b[39m] \u001b[38;5;241m=\u001b[39m py_module\n\u001b[0;32m    156\u001b[0m \u001b[38;5;28msetattr\u001b[39m(py_module, \u001b[38;5;124m\"\u001b[39m\u001b[38;5;124m_native\u001b[39m\u001b[38;5;124m\"\u001b[39m, native_module)\n",
      "File \u001b[1;32m~\\anaconda3\\Lib\\importlib\\__init__.py:90\u001b[0m, in \u001b[0;36mimport_module\u001b[1;34m(name, package)\u001b[0m\n\u001b[0;32m     88\u001b[0m             \u001b[38;5;28;01mbreak\u001b[39;00m\n\u001b[0;32m     89\u001b[0m         level \u001b[38;5;241m+\u001b[39m\u001b[38;5;241m=\u001b[39m \u001b[38;5;241m1\u001b[39m\n\u001b[1;32m---> 90\u001b[0m \u001b[38;5;28;01mreturn\u001b[39;00m _bootstrap\u001b[38;5;241m.\u001b[39m_gcd_import(name[level:], package, level)\n",
      "\u001b[1;31mImportError\u001b[0m: numpy._core.multiarray failed to import"
     ]
    }
   ],
   "source": [
    "import os\n",
    "import pandas as pd\n",
    "from moviepy.editor import *\n",
    "\n",
    "def generate_reel(quote, index, bg_image, output_folder):\n",
    "    \"\"\"Creates a short reel with text overlay on a white background.\"\"\"\n",
    "    \n",
    "    # Set video parameters\n",
    "    video_duration = 6  # Duration in seconds\n",
    "    video_size = (1080, 1920)  # Standard Reel/Shorts size\n",
    "    font_size = 70\n",
    "    font_color = 'black'\n",
    "    font = \"Arial-Bold\"\n",
    "    \n",
    "    # Load background image\n",
    "    image_clip = ImageClip(bg_image, duration=video_duration)\n",
    "    image_clip = image_clip.set_fps(30).resize(video_size)\n",
    "    \n",
    "    # Create text clip with fade-in effect\n",
    "    txt_clip = TextClip(quote, fontsize=font_size, color=font_color, font=font, size=(900, None), method='caption')\n",
    "    txt_clip = txt_clip.set_duration(video_duration).set_position(\"center\").fadein(1)\n",
    "    \n",
    "    # Overlay text on image\n",
    "    final_clip = CompositeVideoClip([image_clip, txt_clip])\n",
    "    \n",
    "    # Export video\n",
    "    output_path = os.path.join(output_folder, f\"reel_{index+1}.mp4\")\n",
    "    final_clip.write_videofile(output_path, fps=30, codec=\"libx264\", threads=4)\n",
    "    print(f\"Created: {output_path}\")\n",
    "\n",
    "# Load Excel file\n",
    "data = pd.read_excel(\"data/motivational_quotes.xlsx\")\n",
    "quotes = data[\"Quote\"].tolist()\n",
    "\n",
    "# Define paths\n",
    "output_folder = \"data/generated_reels\"\n",
    "bg_image = \"data/white_background.jpg\"  # White background image\n",
    "os.makedirs(output_folder, exist_ok=True)\n",
    "\n",
    "# Generate reels in bulk\n",
    "for i, quote in enumerate(quotes[:10]):  # Limit to 10 reels (adjust as needed)\n",
    "    generate_reel(quote, i, bg_image, output_folder)\n",
    "\n",
    "print(\"✅ All reels generated successfully!\")\n"
   ]
  },
  {
   "cell_type": "code",
   "execution_count": 23,
   "id": "9a501132-268e-4fe0-a006-2ed57358f78b",
   "metadata": {},
   "outputs": [
    {
     "name": "stdout",
     "output_type": "stream",
     "text": [
      "^C\n",
      "Requirement already satisfied: numpy in c:\\users\\sachi\\anaconda3\\lib\\site-packages (2.2.2)\n"
     ]
    }
   ],
   "source": [
    "!pip uninstall numpy\n",
    "!pip install numpy --no-cache-dir"
   ]
  },
  {
   "cell_type": "code",
   "execution_count": null,
   "id": "4e6648e6-5483-4c5f-bc42-14ad9228bc8a",
   "metadata": {},
   "outputs": [],
   "source": []
  }
 ],
 "metadata": {
  "kernelspec": {
   "display_name": "Python 3 (ipykernel)",
   "language": "python",
   "name": "python3"
  },
  "language_info": {
   "codemirror_mode": {
    "name": "ipython",
    "version": 3
   },
   "file_extension": ".py",
   "mimetype": "text/x-python",
   "name": "python",
   "nbconvert_exporter": "python",
   "pygments_lexer": "ipython3",
   "version": "3.12.7"
  }
 },
 "nbformat": 4,
 "nbformat_minor": 5
}
