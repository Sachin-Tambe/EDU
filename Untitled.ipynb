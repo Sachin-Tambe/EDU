{
 "cells": [
  {
   "cell_type": "code",
   "execution_count": 20,
   "id": "5b627f1d-140d-45ad-b286-341012016bdc",
   "metadata": {},
   "outputs": [
    {
     "name": "stdout",
     "output_type": "stream",
     "text": [
      "^C\n"
     ]
    }
   ],
   "source": [
    "!streamlit run chatpdf.py"
   ]
  },
  {
   "cell_type": "code",
   "execution_count": 30,
   "id": "552bec63-9abf-4cdf-b91f-873a5ad8626d",
   "metadata": {},
   "outputs": [
    {
     "name": "stdout",
     "output_type": "stream",
     "text": [
      "^C\n"
     ]
    }
   ],
   "source": [
    "!streamlit run summerizer.py"
   ]
  },
  {
   "cell_type": "code",
   "execution_count": 32,
   "id": "5f4b0dc4-44d3-4f7b-bfd0-7e6161024a70",
   "metadata": {},
   "outputs": [
    {
     "name": "stdout",
     "output_type": "stream",
     "text": [
      "^C\n"
     ]
    }
   ],
   "source": [
    "!streamlit run pathGenerator.py"
   ]
  },
  {
   "cell_type": "code",
   "execution_count": null,
   "id": "b99a00e5-678a-4244-bc9a-380b7151602c",
   "metadata": {},
   "outputs": [],
   "source": [
    "!streamlit run quiz.py"
   ]
  },
  {
   "cell_type": "code",
   "execution_count": null,
   "id": "59d20cb2-be92-430a-b67d-b58218c171c5",
   "metadata": {},
   "outputs": [],
   "source": []
  }
 ],
 "metadata": {
  "kernelspec": {
   "display_name": "Python 3 (ipykernel)",
   "language": "python",
   "name": "python3"
  },
  "language_info": {
   "codemirror_mode": {
    "name": "ipython",
    "version": 3
   },
   "file_extension": ".py",
   "mimetype": "text/x-python",
   "name": "python",
   "nbconvert_exporter": "python",
   "pygments_lexer": "ipython3",
   "version": "3.12.7"
  }
 },
 "nbformat": 4,
 "nbformat_minor": 5
}
